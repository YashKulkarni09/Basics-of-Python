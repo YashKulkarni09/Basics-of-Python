{
  "nbformat": 4,
  "nbformat_minor": 0,
  "metadata": {
    "colab": {
      "name": "Homework",
      "provenance": [],
      "collapsed_sections": []
    },
    "kernelspec": {
      "name": "python3",
      "display_name": "Python 3"
    },
    "language_info": {
      "name": "python"
    }
  },
  "cells": [
    {
      "cell_type": "code",
      "execution_count": 5,
      "metadata": {
        "colab": {
          "base_uri": "https://localhost:8080/"
        },
        "id": "7tt1grt4Fzg1",
        "outputId": "31d8010d-8de3-4eca-ecc2-b138cc314fc0"
      },
      "outputs": [
        {
          "output_type": "stream",
          "name": "stdout",
          "text": [
            "99\n",
            "a is 2 digit odd number\n"
          ]
        }
      ],
      "source": [
        "a = int(input())\n",
        "c = a%2 # % is Modulus\n",
        "if c==1:\n",
        "    if a>10:\n",
        "        print(\"a is 2 digit odd number\")\n",
        "    elif a<10:\n",
        "        print(\"a is single digit odd number\")\n",
        "else:\n",
        "    print(\"even\")"
      ]
    }
  ]
}