{
  "nbformat": 4,
  "nbformat_minor": 0,
  "metadata": {
    "colab": {
      "name": "python 3",
      "provenance": [],
      "collapsed_sections": []
    },
    "kernelspec": {
      "name": "python3",
      "display_name": "Python 3"
    },
    "language_info": {
      "name": "python"
    }
  },
  "cells": [
    {
      "cell_type": "code",
      "execution_count": null,
      "metadata": {
        "id": "ks4A_3OFdo2-"
      },
      "outputs": [],
      "source": [
        "Name=\"Yash Kulkarni\"\n",
        "Roll No=\"9134\""
      ]
    },
    {
      "cell_type": "markdown",
      "source": [
        "Collections od data types\n",
        "- List []\n",
        "- Tupples ()\n",
        "- Sets {}\n"
      ],
      "metadata": {
        "id": "VerA02K9earI"
      }
    },
    {
      "cell_type": "code",
      "source": [
        "a=\"Yash\"\n",
        "b=\"Kulkarni\"\n",
        "c=[\"Yash\",\"Prashant\",\"Himanshu\"]\n",
        "print(type(a))\n",
        "print(a)\n",
        "print(type(c))\n",
        "print(c)"
      ],
      "metadata": {
        "colab": {
          "base_uri": "https://localhost:8080/"
        },
        "id": "QJl8mWRyeptd",
        "outputId": "b3ce166b-cb37-43bb-fbd2-cb9d479f1928"
      },
      "execution_count": 2,
      "outputs": [
        {
          "output_type": "stream",
          "name": "stdout",
          "text": [
            "<class 'str'>\n",
            "Yash\n",
            "<class 'list'>\n",
            "['Yash', 'Prashant', 'Himanshu']\n"
          ]
        }
      ]
    },
    {
      "cell_type": "code",
      "source": [
        "names=[\"mean\",\"median\",\"mode\",\"variance\",\"skewness\"]\n",
        "print(names[3])\n",
        "print(names[1:4])\n",
        "print(names[2:])"
      ],
      "metadata": {
        "colab": {
          "base_uri": "https://localhost:8080/"
        },
        "id": "AQIrPxzsfgCn",
        "outputId": "431ca91a-16a0-4fec-8a40-6e23e82d34ba"
      },
      "execution_count": 3,
      "outputs": [
        {
          "output_type": "stream",
          "name": "stdout",
          "text": [
            "variance\n",
            "['median', 'mode', 'variance']\n",
            "['mode', 'variance', 'skewness']\n"
          ]
        }
      ]
    },
    {
      "cell_type": "markdown",
      "source": [
        "Nested List"
      ],
      "metadata": {
        "id": "JEu7IEpxgOHI"
      }
    },
    {
      "cell_type": "code",
      "source": [
        "mylist=[1,2,3,[\"a\",\"b\",[5,6]]]\n",
        "print(mylist)\n",
        "print(mylist[3])"
      ],
      "metadata": {
        "colab": {
          "base_uri": "https://localhost:8080/"
        },
        "id": "k_CXV0vZgP0Y",
        "outputId": "3809afb9-e7c5-4eb3-f22a-e918f3fad22e"
      },
      "execution_count": 4,
      "outputs": [
        {
          "output_type": "stream",
          "name": "stdout",
          "text": [
            "[1, 2, 3, ['a', 'b', [5, 6]]]\n",
            "['a', 'b', [5, 6]]\n"
          ]
        }
      ]
    },
    {
      "cell_type": "markdown",
      "source": [
        "append = add an element at the end of the list"
      ],
      "metadata": {
        "id": "X2AtErrKgw9b"
      }
    },
    {
      "cell_type": "code",
      "source": [
        "print(names)\n",
        "names.append(\"kurtosis\")\n",
        "print(names)"
      ],
      "metadata": {
        "colab": {
          "base_uri": "https://localhost:8080/"
        },
        "id": "feaPTdrMg2Yk",
        "outputId": "ee3f7a4d-6280-4669-f2c6-f9d67a659a41"
      },
      "execution_count": 5,
      "outputs": [
        {
          "output_type": "stream",
          "name": "stdout",
          "text": [
            "['mean', 'median', 'mode', 'variance', 'skewness']\n",
            "['mean', 'median', 'mode', 'variance', 'skewness', 'kurtosis']\n"
          ]
        }
      ]
    },
    {
      "cell_type": "markdown",
      "source": [
        "copy = returns a copy of the list"
      ],
      "metadata": {
        "id": "puDdJPH2hKCC"
      }
    },
    {
      "cell_type": "code",
      "source": [
        "print(names)\n",
        "name1=names.copy()\n",
        "print(name1)"
      ],
      "metadata": {
        "colab": {
          "base_uri": "https://localhost:8080/"
        },
        "id": "C2ZciJJfhPaq",
        "outputId": "979d608e-6534-477d-91b1-efa7b5ef82e6"
      },
      "execution_count": 6,
      "outputs": [
        {
          "output_type": "stream",
          "name": "stdout",
          "text": [
            "['mean', 'median', 'mode', 'variance', 'skewness', 'kurtosis']\n",
            "['mean', 'median', 'mode', 'variance', 'skewness', 'kurtosis']\n"
          ]
        }
      ]
    },
    {
      "cell_type": "markdown",
      "source": [
        "count = returns the no. of elements with the specified value"
      ],
      "metadata": {
        "id": "NxlRGmH4heJL"
      }
    },
    {
      "cell_type": "code",
      "source": [
        "print(names.count(\"mode\"))\n",
        "x=names.append(\"mode\")\n",
        "print(names.count(\"mode\"))"
      ],
      "metadata": {
        "colab": {
          "base_uri": "https://localhost:8080/"
        },
        "id": "GlVcDaRghjjH",
        "outputId": "db99921f-d512-4faf-a893-07339ddf7221"
      },
      "execution_count": 7,
      "outputs": [
        {
          "output_type": "stream",
          "name": "stdout",
          "text": [
            "1\n",
            "2\n"
          ]
        }
      ]
    },
    {
      "cell_type": "markdown",
      "source": [
        "del = delete list"
      ],
      "metadata": {
        "id": "f1RoIqERiRra"
      }
    },
    {
      "cell_type": "code",
      "source": [
        "print(name1)\n",
        "del name1\n",
        "print(name1)"
      ],
      "metadata": {
        "colab": {
          "base_uri": "https://localhost:8080/",
          "height": 217
        },
        "id": "utHLN7a7ib-z",
        "outputId": "c9aaf74a-63c5-4a16-d02f-8295b41743b9"
      },
      "execution_count": 8,
      "outputs": [
        {
          "output_type": "stream",
          "name": "stdout",
          "text": [
            "['mean', 'median', 'mode', 'variance', 'skewness', 'kurtosis']\n"
          ]
        },
        {
          "output_type": "error",
          "ename": "NameError",
          "evalue": "ignored",
          "traceback": [
            "\u001b[0;31m---------------------------------------------------------------------------\u001b[0m",
            "\u001b[0;31mNameError\u001b[0m                                 Traceback (most recent call last)",
            "\u001b[0;32m<ipython-input-8-d4a20ed45137>\u001b[0m in \u001b[0;36m<module>\u001b[0;34m()\u001b[0m\n\u001b[1;32m      1\u001b[0m \u001b[0mprint\u001b[0m\u001b[0;34m(\u001b[0m\u001b[0mname1\u001b[0m\u001b[0;34m)\u001b[0m\u001b[0;34m\u001b[0m\u001b[0;34m\u001b[0m\u001b[0m\n\u001b[1;32m      2\u001b[0m \u001b[0;32mdel\u001b[0m \u001b[0mname1\u001b[0m\u001b[0;34m\u001b[0m\u001b[0;34m\u001b[0m\u001b[0m\n\u001b[0;32m----> 3\u001b[0;31m \u001b[0mprint\u001b[0m\u001b[0;34m(\u001b[0m\u001b[0mname1\u001b[0m\u001b[0;34m)\u001b[0m\u001b[0;34m\u001b[0m\u001b[0;34m\u001b[0m\u001b[0m\n\u001b[0m",
            "\u001b[0;31mNameError\u001b[0m: name 'name1' is not defined"
          ]
        }
      ]
    },
    {
      "cell_type": "markdown",
      "source": [
        "extend = add the element of a list (or any iterable) to the end of the current list"
      ],
      "metadata": {
        "id": "nAAA7FsWjtyy"
      }
    },
    {
      "cell_type": "code",
      "source": [
        "capital=[\"A\",\"B\",\"C\"]\n",
        "small=[\"a\",\"b\",\"c\"]\n",
        "print(capital)\n",
        "capital.extend(small)\n",
        "print(capital)"
      ],
      "metadata": {
        "colab": {
          "base_uri": "https://localhost:8080/"
        },
        "id": "jj0lAf3FkmJT",
        "outputId": "8f2947e8-25dc-4022-d25a-81015768b321"
      },
      "execution_count": 9,
      "outputs": [
        {
          "output_type": "stream",
          "name": "stdout",
          "text": [
            "['A', 'B', 'C']\n",
            "['A', 'B', 'C', 'a', 'b', 'c']\n"
          ]
        }
      ]
    },
    {
      "cell_type": "markdown",
      "source": [
        "index = returns the index of the first element with the specified value"
      ],
      "metadata": {
        "id": "1uVxlQQrlATo"
      }
    },
    {
      "cell_type": "code",
      "source": [
        "print(small.index(\"b\"))\n",
        "print(small.index(\"c\"))"
      ],
      "metadata": {
        "colab": {
          "base_uri": "https://localhost:8080/"
        },
        "id": "nWD21dUolG6L",
        "outputId": "79adce6e-7dc4-4ef6-b078-e23a1c0eec63"
      },
      "execution_count": 12,
      "outputs": [
        {
          "output_type": "stream",
          "name": "stdout",
          "text": [
            "1\n",
            "2\n"
          ]
        }
      ]
    },
    {
      "cell_type": "markdown",
      "source": [
        "sort = sorts the list"
      ],
      "metadata": {
        "id": "j7FvgB99mHki"
      }
    },
    {
      "cell_type": "code",
      "source": [
        "names.sort()\n",
        "print(names)"
      ],
      "metadata": {
        "colab": {
          "base_uri": "https://localhost:8080/"
        },
        "id": "u2zFRFGKmK8m",
        "outputId": "10d2205d-0ce2-468f-db3e-e2649e84cb81"
      },
      "execution_count": 11,
      "outputs": [
        {
          "output_type": "stream",
          "name": "stdout",
          "text": [
            "['kurtosis', 'mean', 'median', 'mode', 'mode', 'skewness', 'variance']\n"
          ]
        }
      ]
    },
    {
      "cell_type": "code",
      "source": [
        "t1=(1,5,9,2,6,0)\n",
        "t2=(\"one\",\"five\",\"nine\",\"two\",\"six\",\"zero\")\n",
        "print(t1)\n",
        "print(t2)"
      ],
      "metadata": {
        "colab": {
          "base_uri": "https://localhost:8080/"
        },
        "id": "9LGFD7rCri0K",
        "outputId": "37fb9ab1-7db0-4776-af70-b79bbd2f4921"
      },
      "execution_count": 21,
      "outputs": [
        {
          "output_type": "stream",
          "name": "stdout",
          "text": [
            "(1, 5, 9, 2, 6, 0)\n",
            "('one', 'five', 'nine', 'two', 'six', 'zero')\n"
          ]
        }
      ]
    },
    {
      "cell_type": "markdown",
      "source": [
        "access"
      ],
      "metadata": {
        "id": "L-c636IjstWp"
      }
    },
    {
      "cell_type": "code",
      "source": [
        "print(t1[2:])\n",
        "print(t2[:5])"
      ],
      "metadata": {
        "colab": {
          "base_uri": "https://localhost:8080/"
        },
        "id": "YRKx0bLssuff",
        "outputId": "2ba92009-2e53-4f2a-986e-a99fb5f44d47"
      },
      "execution_count": 22,
      "outputs": [
        {
          "output_type": "stream",
          "name": "stdout",
          "text": [
            "(9, 2, 6, 0)\n",
            "('one', 'five', 'nine', 'two', 'six')\n"
          ]
        }
      ]
    }
  ]
}