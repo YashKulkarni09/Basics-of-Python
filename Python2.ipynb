{
  "nbformat": 4,
  "nbformat_minor": 0,
  "metadata": {
    "colab": {
      "name": "Python2",
      "provenance": [],
      "collapsed_sections": []
    },
    "kernelspec": {
      "name": "python3",
      "display_name": "Python 3"
    },
    "language_info": {
      "name": "python"
    }
  },
  "cells": [
    {
      "cell_type": "code",
      "source": [
        "def f2():\n",
        "    # globle X \n",
        "    X=\"Yash\"\n",
        "    print(\"My name is\", X)\n",
        "f2()  "
      ],
      "metadata": {
        "colab": {
          "base_uri": "https://localhost:8080/"
        },
        "id": "PXbIPtLEWo4a",
        "outputId": "10533fc8-092d-47da-bdd3-5fa183102769"
      },
      "execution_count": 40,
      "outputs": [
        {
          "output_type": "stream",
          "name": "stdout",
          "text": [
            "My name is Yash\n"
          ]
        }
      ]
    },
    {
      "cell_type": "code",
      "source": [
        "Y=\"Easy\"\n",
        "def f1():\n",
        "  # globle Y\n",
        "  x1=\"easy123\"\n",
        "  print(\"Python is \", x1)\n",
        "  print(\"Python is \", Y)\n",
        "  f1() "
      ],
      "metadata": {
        "id": "oTERB3KIXxMm"
      },
      "execution_count": null,
      "outputs": []
    },
    {
      "cell_type": "markdown",
      "source": [
        "To see the type of the variables"
      ],
      "metadata": {
        "id": "nTQayOaWaoHh"
      }
    },
    {
      "cell_type": "code",
      "source": [
        "x, y, z = 5, \"Good Day!\", \"global\"\n",
        "print(x)\n",
        "print(type(x))\n",
        "print(y)\n",
        "print(type(y))\n",
        "print(z)\n",
        "print(type(z))"
      ],
      "metadata": {
        "colab": {
          "base_uri": "https://localhost:8080/"
        },
        "id": "ZMZloKMIYuo5",
        "outputId": "ef1ece94-9fc8-4592-a59f-dae0223592ee"
      },
      "execution_count": 42,
      "outputs": [
        {
          "output_type": "stream",
          "name": "stdout",
          "text": [
            "5\n",
            "<class 'int'>\n",
            "Good Day!\n",
            "<class 'str'>\n",
            "global\n",
            "<class 'str'>\n"
          ]
        }
      ]
    },
    {
      "cell_type": "code",
      "source": [
        "x=9\n",
        "print(x)\n",
        "print(type(x))\n",
        "complex(x)"
      ],
      "metadata": {
        "colab": {
          "base_uri": "https://localhost:8080/"
        },
        "id": "-PudEO6_ZWMp",
        "outputId": "100c06bd-c427-47f1-e4a7-94723aed9852"
      },
      "execution_count": 43,
      "outputs": [
        {
          "output_type": "stream",
          "name": "stdout",
          "text": [
            "9\n",
            "<class 'int'>\n"
          ]
        },
        {
          "output_type": "execute_result",
          "data": {
            "text/plain": [
              "(9+0j)"
            ]
          },
          "metadata": {},
          "execution_count": 43
        }
      ]
    },
    {
      "cell_type": "markdown",
      "source": [
        "Addition of string variables"
      ],
      "metadata": {
        "id": "dlJ0F-OibCrq"
      }
    },
    {
      "cell_type": "code",
      "source": [
        "\"Yash\"+\"Kulkarni\""
      ],
      "metadata": {
        "colab": {
          "base_uri": "https://localhost:8080/",
          "height": 35
        },
        "id": "nV9T7IP8bGE6",
        "outputId": "465db842-4085-47af-c081-e342925737d5"
      },
      "execution_count": 44,
      "outputs": [
        {
          "output_type": "execute_result",
          "data": {
            "text/plain": [
              "'YashKulkarni'"
            ],
            "application/vnd.google.colaboratory.intrinsic+json": {
              "type": "string"
            }
          },
          "metadata": {},
          "execution_count": 44
        }
      ]
    },
    {
      "cell_type": "markdown",
      "source": [
        "Converting the types of variables"
      ],
      "metadata": {
        "id": "QB_rhwkvdZXc"
      }
    },
    {
      "cell_type": "code",
      "source": [
        "Name=\"Yash\"\n",
        "Sirname=\"Kulkarni\"\n",
        "print(Name + Sirname)\n",
        "a=2.3\n",
        "b=312\n",
        "c=3J\n",
        "print(int(a))\n",
        "print(float(b))\n",
        "print(complex(a))\n",
        "print(complex(b))"
      ],
      "metadata": {
        "colab": {
          "base_uri": "https://localhost:8080/"
        },
        "id": "QInFgWB6baQ2",
        "outputId": "cf67ae69-c086-40a9-89b4-adf95954e709"
      },
      "execution_count": 45,
      "outputs": [
        {
          "output_type": "stream",
          "name": "stdout",
          "text": [
            "YashKulkarni\n",
            "2\n",
            "312.0\n",
            "(2.3+0j)\n",
            "(312+0j)\n"
          ]
        }
      ]
    },
    {
      "cell_type": "markdown",
      "source": [
        "Input function"
      ],
      "metadata": {
        "id": "jS9JNuB9maMY"
      }
    },
    {
      "cell_type": "code",
      "source": [
        "a=input()\n",
        "a"
      ],
      "metadata": {
        "colab": {
          "base_uri": "https://localhost:8080/",
          "height": 53
        },
        "id": "zvg6MRtEdl2w",
        "outputId": "38a31e0f-909e-45ea-9f44-7e88aae98267"
      },
      "execution_count": 46,
      "outputs": [
        {
          "name": "stdout",
          "output_type": "stream",
          "text": [
            "951\n"
          ]
        },
        {
          "output_type": "execute_result",
          "data": {
            "text/plain": [
              "'951'"
            ],
            "application/vnd.google.colaboratory.intrinsic+json": {
              "type": "string"
            }
          },
          "metadata": {},
          "execution_count": 46
        }
      ]
    },
    {
      "cell_type": "code",
      "source": [
        "import keyword\n",
        "keyword.kwlist"
      ],
      "metadata": {
        "colab": {
          "base_uri": "https://localhost:8080/"
        },
        "id": "9RHNcEIfd9BP",
        "outputId": "7e2e5831-4cbe-49f5-deda-e5c2c50b6016"
      },
      "execution_count": 47,
      "outputs": [
        {
          "output_type": "execute_result",
          "data": {
            "text/plain": [
              "['False',\n",
              " 'None',\n",
              " 'True',\n",
              " 'and',\n",
              " 'as',\n",
              " 'assert',\n",
              " 'async',\n",
              " 'await',\n",
              " 'break',\n",
              " 'class',\n",
              " 'continue',\n",
              " 'def',\n",
              " 'del',\n",
              " 'elif',\n",
              " 'else',\n",
              " 'except',\n",
              " 'finally',\n",
              " 'for',\n",
              " 'from',\n",
              " 'global',\n",
              " 'if',\n",
              " 'import',\n",
              " 'in',\n",
              " 'is',\n",
              " 'lambda',\n",
              " 'nonlocal',\n",
              " 'not',\n",
              " 'or',\n",
              " 'pass',\n",
              " 'raise',\n",
              " 'return',\n",
              " 'try',\n",
              " 'while',\n",
              " 'with',\n",
              " 'yield']"
            ]
          },
          "metadata": {},
          "execution_count": 47
        }
      ]
    },
    {
      "cell_type": "code",
      "source": [
        "a=\"Hi how are you? from where their\"\n",
        "print(a.strip())\n",
        "print(a.lower())\n",
        "print(a.upper())\n",
        "print(a.replace(\"o\",\"j\"))\n",
        "print(a.split(\"o\"))"
      ],
      "metadata": {
        "colab": {
          "base_uri": "https://localhost:8080/"
        },
        "id": "kVA_XvjRf6Ee",
        "outputId": "37f58443-5cd4-4e12-b493-d7e98bb8979a"
      },
      "execution_count": 50,
      "outputs": [
        {
          "output_type": "stream",
          "name": "stdout",
          "text": [
            "Hi how are you? from where their\n",
            "hi how are you? from where their\n",
            "HI HOW ARE YOU? FROM WHERE THEIR\n",
            "Hi hjw are yju? frjm where their\n",
            "['Hi h', 'w are y', 'u? fr', 'm where their']\n"
          ]
        }
      ]
    },
    {
      "cell_type": "markdown",
      "source": [
        ".format function"
      ],
      "metadata": {
        "id": "tl4db9iTk-h2"
      }
    },
    {
      "cell_type": "code",
      "source": [
        "age=20\n",
        "txt=\"My name is Yash, & I'm {}\"\n",
        "print(txt.format(age))"
      ],
      "metadata": {
        "colab": {
          "base_uri": "https://localhost:8080/"
        },
        "id": "OIEts_gchKVQ",
        "outputId": "4b441663-4fff-42d9-eeb1-565bd2d49782"
      },
      "execution_count": 51,
      "outputs": [
        {
          "output_type": "stream",
          "name": "stdout",
          "text": [
            "My name is Yash, & I'm 20\n"
          ]
        }
      ]
    },
    {
      "cell_type": "code",
      "source": [
        "quantity=10\n",
        "item=\"Bread\"\n",
        "price=12\n",
        "myorder=\"I want {} pieces of {} for {} rupees\"\n",
        "print(myorder.format(quantity,item,price))"
      ],
      "metadata": {
        "colab": {
          "base_uri": "https://localhost:8080/"
        },
        "id": "taIwD03phgEI",
        "outputId": "7949c0d2-6c7a-4013-940a-976ec21f9344"
      },
      "execution_count": 53,
      "outputs": [
        {
          "output_type": "stream",
          "name": "stdout",
          "text": [
            "I want 10 pieces of Bread for 12 rupees\n"
          ]
        }
      ]
    },
    {
      "cell_type": "code",
      "source": [
        "name=input()\n",
        "age=input()\n",
        "\"My name is {} & I'm {} years old\".format(name,age)"
      ],
      "metadata": {
        "colab": {
          "base_uri": "https://localhost:8080/",
          "height": 70
        },
        "id": "9tPJEQpVihaZ",
        "outputId": "85826f06-2258-4c71-e1dc-c653f64e0f9a"
      },
      "execution_count": 55,
      "outputs": [
        {
          "name": "stdout",
          "output_type": "stream",
          "text": [
            "Yash\n",
            "20\n"
          ]
        },
        {
          "output_type": "execute_result",
          "data": {
            "text/plain": [
              "\"My name is Yash & I'm 20 years old\""
            ],
            "application/vnd.google.colaboratory.intrinsic+json": {
              "type": "string"
            }
          },
          "metadata": {},
          "execution_count": 55
        }
      ]
    },
    {
      "cell_type": "code",
      "source": [
        "name=input()\n",
        "age=input()\n",
        "Class=input()\n",
        "clg=input()\n",
        "\"My name is {} , I'm {} years old , I study in {} in {}\".format(name,age,Class,clg)"
      ],
      "metadata": {
        "colab": {
          "base_uri": "https://localhost:8080/",
          "height": 105
        },
        "id": "wOuCvg_BjTy8",
        "outputId": "45acf3fd-ee3c-4774-aae0-7bdf8282bb68"
      },
      "execution_count": 57,
      "outputs": [
        {
          "name": "stdout",
          "output_type": "stream",
          "text": [
            "Yash\n",
            "20\n",
            "TY\n",
            "SPC\n"
          ]
        },
        {
          "output_type": "execute_result",
          "data": {
            "text/plain": [
              "\"My name is Yash , I'm 20 years old , I study in TY in SPC\""
            ],
            "application/vnd.google.colaboratory.intrinsic+json": {
              "type": "string"
            }
          },
          "metadata": {},
          "execution_count": 57
        }
      ]
    },
    {
      "cell_type": "code",
      "source": [
        "name=input(\"Enter your name \",)\n",
        "age=input(\"Enter your age \",)\n",
        "Class=input(\"Ënter your class \",)\n",
        "clg=input(\"Enter your college name \",)\n",
        "\"My name is {} , I'm {} years old , I study in {} in {} \".format(name,age,Class,clg)"
      ],
      "metadata": {
        "colab": {
          "base_uri": "https://localhost:8080/",
          "height": 105
        },
        "id": "gVTJ8WPakIlR",
        "outputId": "3503a6d5-4e8b-43a0-9f42-d81c8ad14e5a"
      },
      "execution_count": 61,
      "outputs": [
        {
          "name": "stdout",
          "output_type": "stream",
          "text": [
            "Enter your name Yash\n",
            "Enter your age 20\n",
            "Ënter your class TYBSc\n",
            "Enter your college name SP College \n"
          ]
        },
        {
          "output_type": "execute_result",
          "data": {
            "text/plain": [
              "\"My name is Yash , I'm 20 years old , I study in TYBSc in SP College  \""
            ],
            "application/vnd.google.colaboratory.intrinsic+json": {
              "type": "string"
            }
          },
          "metadata": {},
          "execution_count": 61
        }
      ]
    },
    {
      "cell_type": "code",
      "source": [
        "quantity=10\n",
        "item=\"Bread\"\n",
        "price=12\n",
        "country=\"Indian\"\n",
        "myorder=\"I want {c} pieces of {b} for {d} rupees. Ruppes is {a} currency\"\n",
        "print(myorder.format(a=country,b=item,c=quantity,d=price))"
      ],
      "metadata": {
        "colab": {
          "base_uri": "https://localhost:8080/"
        },
        "id": "msJHo7E8mpRH",
        "outputId": "ede04c36-6b30-43bd-e560-383d466d117d"
      },
      "execution_count": 62,
      "outputs": [
        {
          "output_type": "stream",
          "name": "stdout",
          "text": [
            "I want 10 pieces of Bread for 12 rupees. Ruppes is Indian currency\n"
          ]
        }
      ]
    }
  ]
}