{
  "nbformat": 4,
  "nbformat_minor": 0,
  "metadata": {
    "colab": {
      "name": "Yash_Kulkarni_9134_Assignment",
      "provenance": [],
      "collapsed_sections": []
    },
    "kernelspec": {
      "name": "python3",
      "display_name": "Python 3"
    },
    "language_info": {
      "name": "python"
    }
  },
  "cells": [
    {
      "cell_type": "code",
      "execution_count": null,
      "metadata": {
        "id": "AQljpCDjRh9M"
      },
      "outputs": [],
      "source": [
        "Name=\"Yash Kulkarni\"\n",
        "Roll_No=9134"
      ]
    },
    {
      "cell_type": "markdown",
      "source": [
        "Lists"
      ],
      "metadata": {
        "id": "zddStRefVezy"
      }
    },
    {
      "cell_type": "code",
      "source": [
        "A=[\"Yash\",\"Kulkarni\",20,\"Student\"]\n",
        "B=[\"SP College\",\"Autonomous\",\"Sadashiv Peth\",411030]\n",
        "print(A)\n",
        "print(B)"
      ],
      "metadata": {
        "colab": {
          "base_uri": "https://localhost:8080/"
        },
        "id": "UPa8vWBHT7Mt",
        "outputId": "7743f8ce-ac0f-4905-db64-679e87ab6056"
      },
      "execution_count": 16,
      "outputs": [
        {
          "output_type": "stream",
          "name": "stdout",
          "text": [
            "['Yash', 'Kulkarni', 20, 'Student']\n",
            "['SP College', 'Autonomous', 'Sadashiv Peth', 411030]\n"
          ]
        }
      ]
    },
    {
      "cell_type": "markdown",
      "source": [
        "Tupples"
      ],
      "metadata": {
        "id": "A33kXrv8VnVw"
      }
    },
    {
      "cell_type": "code",
      "source": [
        "a=(\"Yash\",\"Kulkarni\",20,\"Student\")\n",
        "b=(\"SP College\",\"Autonomous\",\"Sadashiv Peth\",411030)\n",
        "print(a)\n",
        "print(b)"
      ],
      "metadata": {
        "colab": {
          "base_uri": "https://localhost:8080/"
        },
        "id": "CLWvdwTyVo6k",
        "outputId": "caad7d2a-4b5d-4ad1-e1ce-2a9257528ca3"
      },
      "execution_count": 17,
      "outputs": [
        {
          "output_type": "stream",
          "name": "stdout",
          "text": [
            "('Yash', 'Kulkarni', 20, 'Student')\n",
            "('SP College', 'Autonomous', 'Sadashiv Peth', 411030)\n"
          ]
        }
      ]
    },
    {
      "cell_type": "code",
      "source": [
        "print(A[0:2])\n",
        "print(B[2:3])\n",
        "print(a[2])\n",
        "print(b[3])"
      ],
      "metadata": {
        "colab": {
          "base_uri": "https://localhost:8080/"
        },
        "id": "P0PC7eFiW1xa",
        "outputId": "034efac2-5889-4102-dac0-3b37f8882635"
      },
      "execution_count": 18,
      "outputs": [
        {
          "output_type": "stream",
          "name": "stdout",
          "text": [
            "['Yash', 'Kulkarni']\n",
            "['Sadashiv Peth']\n",
            "20\n",
            "411030\n"
          ]
        }
      ]
    },
    {
      "cell_type": "markdown",
      "source": [
        "Class"
      ],
      "metadata": {
        "id": "Vq1FbFa4V7GU"
      }
    },
    {
      "cell_type": "code",
      "source": [
        "print(type(A))\n",
        "print(type(B))\n",
        "print(type(a))\n",
        "print(type(b))"
      ],
      "metadata": {
        "colab": {
          "base_uri": "https://localhost:8080/"
        },
        "id": "K9Zz9geHWSYX",
        "outputId": "417138ec-61ab-493d-ec81-01e2315c5fb3"
      },
      "execution_count": 20,
      "outputs": [
        {
          "output_type": "stream",
          "name": "stdout",
          "text": [
            "<class 'list'>\n",
            "<class 'list'>\n",
            "<class 'tuple'>\n",
            "<class 'tuple'>\n"
          ]
        }
      ]
    },
    {
      "cell_type": "markdown",
      "source": [
        "Copy"
      ],
      "metadata": {
        "id": "HyzEj8AlWoo8"
      }
    },
    {
      "cell_type": "code",
      "source": [
        "print(A)\n",
        "A1=A.copy()\n",
        "print(A1)\n",
        "\n",
        "### Tupples cannot be copied\n",
        "\n"
      ],
      "metadata": {
        "colab": {
          "base_uri": "https://localhost:8080/"
        },
        "id": "I5ALFx4NfqHY",
        "outputId": "945bb934-339b-4b81-bded-156c237a2bd0"
      },
      "execution_count": 21,
      "outputs": [
        {
          "output_type": "stream",
          "name": "stdout",
          "text": [
            "['Yash', 'Kulkarni', 20, 'Student']\n",
            "['Yash', 'Kulkarni', 20, 'Student']\n"
          ]
        }
      ]
    },
    {
      "cell_type": "markdown",
      "source": [
        "Append"
      ],
      "metadata": {
        "id": "H2Igh-Dnhi3e"
      }
    },
    {
      "cell_type": "code",
      "source": [
        "print(B)\n",
        "B.append(\"Autonomous\")\n",
        "print(B)\n",
        "\n",
        "### TUpples cannot be changed"
      ],
      "metadata": {
        "colab": {
          "base_uri": "https://localhost:8080/"
        },
        "id": "KJV-dQhOhnWk",
        "outputId": "dc3b6908-f028-40d3-8863-3a919e940121"
      },
      "execution_count": 23,
      "outputs": [
        {
          "output_type": "stream",
          "name": "stdout",
          "text": [
            "['SP College', 'Autonomous', 'Sadashiv Peth', 411030, 'Autonomous']\n",
            "['SP College', 'Autonomous', 'Sadashiv Peth', 411030, 'Autonomous', 'Autonomous']\n"
          ]
        }
      ]
    },
    {
      "cell_type": "markdown",
      "source": [
        "Count"
      ],
      "metadata": {
        "id": "yzC-dWA8j2_j"
      }
    },
    {
      "cell_type": "code",
      "source": [
        "print(A.count(\"Yash\"))\n",
        "A.append(\"Yash\")\n",
        "print(A.count(\"Yash\"))"
      ],
      "metadata": {
        "colab": {
          "base_uri": "https://localhost:8080/"
        },
        "id": "gX7asZPvj4VK",
        "outputId": "b26fdecf-7722-4952-fe25-895257f91c93"
      },
      "execution_count": 24,
      "outputs": [
        {
          "output_type": "stream",
          "name": "stdout",
          "text": [
            "1\n",
            "2\n"
          ]
        }
      ]
    },
    {
      "cell_type": "markdown",
      "source": [
        "Delete list"
      ],
      "metadata": {
        "id": "uZcdiR0plxbk"
      }
    },
    {
      "cell_type": "code",
      "source": [
        "print(A1)\n",
        "del A1\n",
        "print(A1)\n",
        "\n",
        "### List A1 is deleted therefore it is showing error"
      ],
      "metadata": {
        "colab": {
          "base_uri": "https://localhost:8080/",
          "height": 217
        },
        "id": "UpHOO4Isly_O",
        "outputId": "12397d71-45ec-4cd0-9e8b-a8fbe135e080"
      },
      "execution_count": 25,
      "outputs": [
        {
          "output_type": "stream",
          "name": "stdout",
          "text": [
            "['Yash', 'Kulkarni', 20, 'Student']\n"
          ]
        },
        {
          "output_type": "error",
          "ename": "NameError",
          "evalue": "ignored",
          "traceback": [
            "\u001b[0;31m---------------------------------------------------------------------------\u001b[0m",
            "\u001b[0;31mNameError\u001b[0m                                 Traceback (most recent call last)",
            "\u001b[0;32m<ipython-input-25-a8d90b5ba71c>\u001b[0m in \u001b[0;36m<module>\u001b[0;34m()\u001b[0m\n\u001b[1;32m      1\u001b[0m \u001b[0mprint\u001b[0m\u001b[0;34m(\u001b[0m\u001b[0mA1\u001b[0m\u001b[0;34m)\u001b[0m\u001b[0;34m\u001b[0m\u001b[0;34m\u001b[0m\u001b[0m\n\u001b[1;32m      2\u001b[0m \u001b[0;32mdel\u001b[0m \u001b[0mA1\u001b[0m\u001b[0;34m\u001b[0m\u001b[0;34m\u001b[0m\u001b[0m\n\u001b[0;32m----> 3\u001b[0;31m \u001b[0mprint\u001b[0m\u001b[0;34m(\u001b[0m\u001b[0mA1\u001b[0m\u001b[0;34m)\u001b[0m\u001b[0;34m\u001b[0m\u001b[0;34m\u001b[0m\u001b[0m\n\u001b[0m",
            "\u001b[0;31mNameError\u001b[0m: name 'A1' is not defined"
          ]
        }
      ]
    },
    {
      "cell_type": "markdown",
      "source": [
        "Extend"
      ],
      "metadata": {
        "id": "htdmmPEFmSZ2"
      }
    },
    {
      "cell_type": "code",
      "source": [
        "print(A)\n",
        "print(B)\n",
        "A.extend(B)\n",
        "print(A)"
      ],
      "metadata": {
        "colab": {
          "base_uri": "https://localhost:8080/"
        },
        "id": "FiPc5sWpmTaG",
        "outputId": "c4413249-a291-4511-acd0-6012ddc0cf81"
      },
      "execution_count": 26,
      "outputs": [
        {
          "output_type": "stream",
          "name": "stdout",
          "text": [
            "['Yash', 'Kulkarni', 20, 'Student', 'Yash']\n",
            "['SP College', 'Autonomous', 'Sadashiv Peth', 411030, 'Autonomous', 'Autonomous']\n",
            "['Yash', 'Kulkarni', 20, 'Student', 'Yash', 'SP College', 'Autonomous', 'Sadashiv Peth', 411030, 'Autonomous', 'Autonomous']\n"
          ]
        }
      ]
    },
    {
      "cell_type": "markdown",
      "source": [
        "Index"
      ],
      "metadata": {
        "id": "3SZNyOkSmz_4"
      }
    },
    {
      "cell_type": "code",
      "source": [
        "print(B.index(\"Sadashiv Peth\"))\n",
        "print(A.index(\"Autonomous\"))\n",
        "\n",
        "### If the elements are repeated in the list then index() will provide the index no. of first element"
      ],
      "metadata": {
        "colab": {
          "base_uri": "https://localhost:8080/"
        },
        "id": "lh7Fcztcm5zQ",
        "outputId": "241d9bbf-c1b8-403b-a412-882c53594135"
      },
      "execution_count": 27,
      "outputs": [
        {
          "output_type": "stream",
          "name": "stdout",
          "text": [
            "2\n",
            "6\n"
          ]
        }
      ]
    },
    {
      "cell_type": "markdown",
      "source": [
        "Sort"
      ],
      "metadata": {
        "id": "i18HeCFVna_F"
      }
    },
    {
      "cell_type": "code",
      "source": [
        "K=[\"D\",\"A\",\"C\",\"B\"]\n",
        "print(K)\n",
        "K1=[4,2,1,3]\n",
        "print(K1)\n",
        "K.sort()\n",
        "K1.sort()\n",
        "print(K)\n",
        "print(K1)\n",
        "\n",
        "### For sorting all the elements in the list should be of same type"
      ],
      "metadata": {
        "colab": {
          "base_uri": "https://localhost:8080/"
        },
        "id": "53GvfXQgnb07",
        "outputId": "456c3529-03a5-4155-bde3-0fe67aeac9fc"
      },
      "execution_count": 31,
      "outputs": [
        {
          "output_type": "stream",
          "name": "stdout",
          "text": [
            "['D', 'A', 'C', 'B']\n",
            "[4, 2, 1, 3]\n",
            "['A', 'B', 'C', 'D']\n",
            "[1, 2, 3, 4]\n"
          ]
        }
      ]
    },
    {
      "cell_type": "markdown",
      "source": [
        "Access"
      ],
      "metadata": {
        "id": "gcL3B3ELoci8"
      }
    },
    {
      "cell_type": "code",
      "source": [
        "print(K[:2])\n",
        "print(K1[0:])"
      ],
      "metadata": {
        "colab": {
          "base_uri": "https://localhost:8080/"
        },
        "id": "Ej2MOc8Nofdk",
        "outputId": "354c57d6-f46c-49a2-98a2-012a26a319de"
      },
      "execution_count": 32,
      "outputs": [
        {
          "output_type": "stream",
          "name": "stdout",
          "text": [
            "['A', 'B']\n",
            "[1, 2, 3, 4]\n"
          ]
        }
      ]
    },
    {
      "cell_type": "markdown",
      "source": [
        "Nested List"
      ],
      "metadata": {
        "id": "CsCUgmvxo_KC"
      }
    },
    {
      "cell_type": "code",
      "source": [
        "ABlist=[\"Yash\",\"SP COllege\",[20,411030]]\n",
        "print(ABlist)\n",
        "print(ABlist[2])"
      ],
      "metadata": {
        "colab": {
          "base_uri": "https://localhost:8080/"
        },
        "id": "M4UQ5D3VpApW",
        "outputId": "aac5b11d-bb2e-41d4-948a-92f0548bfc34"
      },
      "execution_count": 34,
      "outputs": [
        {
          "output_type": "stream",
          "name": "stdout",
          "text": [
            "['Yash', 'SP COllege', [20, 411030]]\n",
            "[20, 411030]\n"
          ]
        }
      ]
    }
  ]
}