{
  "nbformat": 4,
  "nbformat_minor": 0,
  "metadata": {
    "colab": {
      "name": "Python4",
      "provenance": [],
      "collapsed_sections": []
    },
    "kernelspec": {
      "name": "python3",
      "display_name": "Python 3"
    },
    "language_info": {
      "name": "python"
    }
  },
  "cells": [
    {
      "cell_type": "code",
      "execution_count": null,
      "metadata": {
        "id": "hh-qmGXlYKmq"
      },
      "outputs": [],
      "source": [
        "Name=\"Yash Kulakarni\"\n",
        "Roll_No=9134"
      ]
    },
    {
      "cell_type": "markdown",
      "source": [
        "Sets"
      ],
      "metadata": {
        "id": "Ysh26x44YiMZ"
      }
    },
    {
      "cell_type": "code",
      "source": [
        "d1={\"Name\":\"Yash\",\"Class\":\"TY\",\"Roll No\":9134,\"Result\":\"Distinction\"}\n",
        "print(d1)\n",
        "d1[\"Result\"]"
      ],
      "metadata": {
        "colab": {
          "base_uri": "https://localhost:8080/",
          "height": 53
        },
        "id": "8EdILWWUYjUY",
        "outputId": "71be73eb-7064-48fc-e2ca-12305b172702"
      },
      "execution_count": 1,
      "outputs": [
        {
          "output_type": "stream",
          "name": "stdout",
          "text": [
            "{'Name': 'Yash', 'Class': 'TY', 'Roll No': 9134, 'Result': 'Distinction'}\n"
          ]
        },
        {
          "output_type": "execute_result",
          "data": {
            "text/plain": [
              "'Distinction'"
            ],
            "application/vnd.google.colaboratory.intrinsic+json": {
              "type": "string"
            }
          },
          "metadata": {},
          "execution_count": 1
        }
      ]
    },
    {
      "cell_type": "markdown",
      "source": [
        "get()"
      ],
      "metadata": {
        "id": "YpNJDdeXZaaU"
      }
    },
    {
      "cell_type": "code",
      "source": [
        "d1.get(\"Roll No\")"
      ],
      "metadata": {
        "colab": {
          "base_uri": "https://localhost:8080/"
        },
        "id": "NuyIp--yZeWM",
        "outputId": "d6b60da1-b1e4-4732-8a52-ecbd16935244"
      },
      "execution_count": 2,
      "outputs": [
        {
          "output_type": "execute_result",
          "data": {
            "text/plain": [
              "9134"
            ]
          },
          "metadata": {},
          "execution_count": 2
        }
      ]
    },
    {
      "cell_type": "markdown",
      "source": [
        "Change Value"
      ],
      "metadata": {
        "id": "EzgYVkTsZlQ_"
      }
    },
    {
      "cell_type": "code",
      "source": [
        "d1[\"Class\"]=\"TYBSc\"\n",
        "print(d1)"
      ],
      "metadata": {
        "colab": {
          "base_uri": "https://localhost:8080/"
        },
        "id": "VjJjgRNyZo4-",
        "outputId": "c2b97b27-ca94-417f-8cab-b689b3e26d16"
      },
      "execution_count": 3,
      "outputs": [
        {
          "output_type": "stream",
          "name": "stdout",
          "text": [
            "{'Name': 'Yash', 'Class': 'TYBSc', 'Roll No': 9134, 'Result': 'Distinction'}\n"
          ]
        }
      ]
    },
    {
      "cell_type": "markdown",
      "source": [
        "Extract Keys"
      ],
      "metadata": {
        "id": "CMZtrzJbZ2sW"
      }
    },
    {
      "cell_type": "code",
      "source": [
        "d1.keys()"
      ],
      "metadata": {
        "colab": {
          "base_uri": "https://localhost:8080/"
        },
        "id": "IS8g475raA5J",
        "outputId": "e872cd40-78dc-414f-b2cc-6a3e0f0a9d5f"
      },
      "execution_count": 4,
      "outputs": [
        {
          "output_type": "execute_result",
          "data": {
            "text/plain": [
              "dict_keys(['Name', 'Class', 'Roll No', 'Result'])"
            ]
          },
          "metadata": {},
          "execution_count": 4
        }
      ]
    },
    {
      "cell_type": "markdown",
      "source": [
        "Extracy Values"
      ],
      "metadata": {
        "id": "XnUPHoCMZ-Z-"
      }
    },
    {
      "cell_type": "code",
      "source": [
        "d1.values()"
      ],
      "metadata": {
        "colab": {
          "base_uri": "https://localhost:8080/"
        },
        "id": "zX3ONeLFaEAD",
        "outputId": "1b9c6a73-fc9a-40c5-a56e-61e332826232"
      },
      "execution_count": 6,
      "outputs": [
        {
          "output_type": "execute_result",
          "data": {
            "text/plain": [
              "dict_values(['Yash', 'TYBSc', 9134, 'Distinction'])"
            ]
          },
          "metadata": {},
          "execution_count": 6
        }
      ]
    },
    {
      "cell_type": "markdown",
      "source": [
        "Extrcat both keys & values"
      ],
      "metadata": {
        "id": "-ew8jhXiaI72"
      }
    },
    {
      "cell_type": "code",
      "source": [
        "d1.items()"
      ],
      "metadata": {
        "colab": {
          "base_uri": "https://localhost:8080/"
        },
        "id": "AulxbF7jaHIy",
        "outputId": "114e3747-d5ab-447a-f3a4-8fd58ebb3b5c"
      },
      "execution_count": 7,
      "outputs": [
        {
          "output_type": "execute_result",
          "data": {
            "text/plain": [
              "dict_items([('Name', 'Yash'), ('Class', 'TYBSc'), ('Roll No', 9134), ('Result', 'Distinction')])"
            ]
          },
          "metadata": {},
          "execution_count": 7
        }
      ]
    },
    {
      "cell_type": "markdown",
      "source": [
        "Nested Dictionary"
      ],
      "metadata": {
        "id": "8qw5anyxaeXr"
      }
    },
    {
      "cell_type": "code",
      "source": [
        "mymovie={\n",
        "    \"actor1\" : {\n",
        "        \"name\" : \"ntr\",\n",
        "        \"year\" : 1983\n",
        "    },\n",
        "    \"actor2\" : {\n",
        "        \"name\" : \"ramcharan\",\n",
        "        \"year\" : 1985\n",
        "    }\n",
        "}\n",
        "print(mymovie)"
      ],
      "metadata": {
        "colab": {
          "base_uri": "https://localhost:8080/"
        },
        "id": "OpnfcfWHagUo",
        "outputId": "45682335-7bee-47e7-ff0d-d426514b45f6"
      },
      "execution_count": 18,
      "outputs": [
        {
          "output_type": "stream",
          "name": "stdout",
          "text": [
            "{'actor1': {'name': 'ntr', 'year': 1983}, 'actor2': {'name': 'ramcharan', 'year': 1985}}\n"
          ]
        }
      ]
    },
    {
      "cell_type": "code",
      "source": [
        "{\"child1.\" : {\"name\":\"x\",\"year\":1}}\n",
        "{\"child2.\" : {\"name\":\"y\",\"year\":2}}\n",
        "{\"child3.\" : {\"name\":\"z\",\"year\":3}}\n",
        "my_family={\"c1\":\"child1.\",\"c2\":\"child2.\",\"c3\":\"child3.\"}\n",
        "print(my_family)"
      ],
      "metadata": {
        "colab": {
          "base_uri": "https://localhost:8080/"
        },
        "id": "km9UD3rgbi6W",
        "outputId": "d086afb8-5d7d-4c2c-e93b-be241f92ede7"
      },
      "execution_count": 22,
      "outputs": [
        {
          "output_type": "stream",
          "name": "stdout",
          "text": [
            "{'c1': 'child1.', 'c2': 'child2.', 'c3': 'child3.'}\n"
          ]
        }
      ]
    }
  ]
}