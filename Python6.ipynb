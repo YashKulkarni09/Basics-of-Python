{
  "nbformat": 4,
  "nbformat_minor": 0,
  "metadata": {
    "colab": {
      "name": "Python6",
      "provenance": [],
      "collapsed_sections": []
    },
    "kernelspec": {
      "name": "python3",
      "display_name": "Python 3"
    },
    "language_info": {
      "name": "python"
    }
  },
  "cells": [
    {
      "cell_type": "code",
      "execution_count": null,
      "metadata": {
        "id": "ZRYDJke-_ALf"
      },
      "outputs": [],
      "source": [
        "Name=\"Yash Kulkarni\"\n",
        "Roll_No=9134"
      ]
    },
    {
      "cell_type": "markdown",
      "source": [
        "If Condition"
      ],
      "metadata": {
        "id": "S2E1Bnwk_9-B"
      }
    },
    {
      "cell_type": "code",
      "source": [
        "a=33\n",
        "b=20\n",
        "if b<a:\n",
        "  print(\"b is less than a\")"
      ],
      "metadata": {
        "colab": {
          "base_uri": "https://localhost:8080/"
        },
        "id": "krOBs-He_pK1",
        "outputId": "8f63749d-9926-4e5b-ca5a-d1c2b90e730a"
      },
      "execution_count": null,
      "outputs": [
        {
          "output_type": "stream",
          "name": "stdout",
          "text": [
            "b is less than a\n"
          ]
        }
      ]
    },
    {
      "cell_type": "code",
      "source": [
        "a=6\n",
        "b=6\n",
        "if a>b:\n",
        "  print(\"a is greater than b\")\n",
        "\n",
        "  ### since the value of a & b is same therefore there is no result"
      ],
      "metadata": {
        "id": "LvZTagXzBL1n"
      },
      "execution_count": null,
      "outputs": []
    },
    {
      "cell_type": "code",
      "source": [
        "a=6\n",
        "b=6\n",
        "if a>=b:\n",
        "  print(\"a is greater than or equal to b\")"
      ],
      "metadata": {
        "colab": {
          "base_uri": "https://localhost:8080/"
        },
        "id": "FYck2krNCS8t",
        "outputId": "6c3ec3d7-ea12-4e5e-db24-e26ee9cd3a19"
      },
      "execution_count": null,
      "outputs": [
        {
          "output_type": "stream",
          "name": "stdout",
          "text": [
            "a is greater than or equal to b\n"
          ]
        }
      ]
    },
    {
      "cell_type": "code",
      "source": [
        "if a<b:\n",
        "  print(\"abc\")\n",
        "print(123)\n",
        "\n",
        "  ### print(\"abc\") is the part of if function, the condition isn't satisfied there is no result. print(123) isn't the part of if function"
      ],
      "metadata": {
        "colab": {
          "base_uri": "https://localhost:8080/"
        },
        "id": "DDH5VP8vCyx5",
        "outputId": "b22d4a4c-ba9f-4134-f820-9e3f225500b6"
      },
      "execution_count": null,
      "outputs": [
        {
          "output_type": "stream",
          "name": "stdout",
          "text": [
            "123\n"
          ]
        }
      ]
    },
    {
      "cell_type": "markdown",
      "source": [
        "If else\n",
        "\n",
        "if\n",
        "  body of if\n",
        "else\n",
        "  body of else  "
      ],
      "metadata": {
        "id": "ZevkoAhgDVcb"
      }
    },
    {
      "cell_type": "code",
      "source": [
        "n=-9\n",
        "if n>0:\n",
        "  print(\"Positive Number\")\n",
        "else: \n",
        "  print(\"Negative Number\")"
      ],
      "metadata": {
        "colab": {
          "base_uri": "https://localhost:8080/"
        },
        "id": "08eFrxDQDYVy",
        "outputId": "e583376e-aed1-4f95-c9e6-044ddb0ba7b5"
      },
      "execution_count": null,
      "outputs": [
        {
          "output_type": "stream",
          "name": "stdout",
          "text": [
            "Negative Number\n"
          ]
        }
      ]
    },
    {
      "cell_type": "markdown",
      "source": [
        "If elif else"
      ],
      "metadata": {
        "id": "p7y5a69fG7Al"
      }
    },
    {
      "cell_type": "code",
      "source": [
        "num=-1\n",
        "if num>0:\n",
        " print(\"positive\")\n",
        "elif num==0:\n",
        " print(\"zero\")\n",
        "else:\n",
        " print(\"negative\")"
      ],
      "metadata": {
        "colab": {
          "base_uri": "https://localhost:8080/"
        },
        "id": "dDnAMD6IGxlf",
        "outputId": "dc3acb1a-7c18-4fc6-ded8-79edf2ef4474"
      },
      "execution_count": null,
      "outputs": [
        {
          "output_type": "stream",
          "name": "stdout",
          "text": [
            "negative\n"
          ]
        }
      ]
    },
    {
      "cell_type": "markdown",
      "source": [
        "Example"
      ],
      "metadata": {
        "id": "fGNik8TpJA7N"
      }
    },
    {
      "cell_type": "code",
      "source": [
        "marks=[90,80,70]\n",
        "for i in marks:\n",
        " if i==90:\n",
        "  print(\"you can take Science\")\n",
        " elif i==80:\n",
        "  print(\"you can take Commerce\")\n",
        " else: \n",
        "  print(\"you can take Arts\")"
      ],
      "metadata": {
        "colab": {
          "base_uri": "https://localhost:8080/"
        },
        "id": "_g2nbCNBJCH9",
        "outputId": "1c64ba78-432f-4e97-bc35-5c1f41305e14"
      },
      "execution_count": null,
      "outputs": [
        {
          "output_type": "stream",
          "name": "stdout",
          "text": [
            "you can take Science\n",
            "you can take Commerce\n",
            "you can take Arts\n"
          ]
        }
      ]
    },
    {
      "cell_type": "code",
      "source": [
        "marks=int(input())\n",
        "c=[90,80,70]\n",
        "for i in c:\n",
        " if i>80:\n",
        "  print(\"you can take science\")\n",
        " elif i>70:\n",
        "  print(\"you can take commerce\")\n",
        " else:\n",
        "  print(\"you can take arts\")"
      ],
      "metadata": {
        "colab": {
          "base_uri": "https://localhost:8080/"
        },
        "id": "5Lxk4N3lKrsD",
        "outputId": "4f64bbda-2aff-4c43-f300-cfa69707d212"
      },
      "execution_count": null,
      "outputs": [
        {
          "output_type": "stream",
          "name": "stdout",
          "text": [
            "85\n",
            "you can take science\n",
            "you can take commerce\n",
            "you can take arts\n"
          ]
        }
      ]
    }
  ]
}