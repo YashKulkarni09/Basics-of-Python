{
  "nbformat": 4,
  "nbformat_minor": 0,
  "metadata": {
    "colab": {
      "name": "Python7",
      "provenance": [],
      "collapsed_sections": []
    },
    "kernelspec": {
      "name": "python3",
      "display_name": "Python 3"
    },
    "language_info": {
      "name": "python"
    }
  },
  "cells": [
    {
      "cell_type": "code",
      "execution_count": null,
      "metadata": {
        "colab": {
          "base_uri": "https://localhost:8080/"
        },
        "id": "ktkF2t7KUxPK",
        "outputId": "2124b0cb-cb34-4e59-8f01-39b4c2743df7"
      },
      "outputs": [
        {
          "output_type": "stream",
          "name": "stdout",
          "text": [
            "['Python']\n"
          ]
        }
      ],
      "source": [
        "P=[\"Python\"]\n",
        "print(P)"
      ]
    },
    {
      "cell_type": "markdown",
      "source": [
        "Break"
      ],
      "metadata": {
        "id": "jkXGSb88Ymd5"
      }
    },
    {
      "cell_type": "code",
      "source": [
        "P1=\"Python\"\n",
        "for i in P1:\n",
        "  print (i)\n",
        "  if i=='o':\n",
        "   break"
      ],
      "metadata": {
        "colab": {
          "base_uri": "https://localhost:8080/"
        },
        "id": "X_ubuyl1Vu67",
        "outputId": "a443b631-eb35-4d40-91fb-60c6c4b4402d"
      },
      "execution_count": null,
      "outputs": [
        {
          "output_type": "stream",
          "name": "stdout",
          "text": [
            "P\n",
            "y\n",
            "t\n",
            "h\n",
            "o\n"
          ]
        }
      ]
    },
    {
      "cell_type": "code",
      "source": [
        "f=[\"apple\",\"mango\",\"banana\"]\n",
        "for x in f:\n",
        "  print(x)\n",
        "  if x ==\"banana\":\n",
        "   break"
      ],
      "metadata": {
        "colab": {
          "base_uri": "https://localhost:8080/"
        },
        "id": "TVet468hWvdv",
        "outputId": "d38390c3-b063-411e-950c-d252c7e9e75e"
      },
      "execution_count": null,
      "outputs": [
        {
          "output_type": "stream",
          "name": "stdout",
          "text": [
            "apple\n",
            "mango\n",
            "banana\n"
          ]
        }
      ]
    },
    {
      "cell_type": "markdown",
      "source": [
        "Continue"
      ],
      "metadata": {
        "id": "CmPtuJxpYoQE"
      }
    },
    {
      "cell_type": "code",
      "source": [
        "for i in P1:\n",
        "   if i == 't':\n",
        "    continue\n",
        "   print(i)"
      ],
      "metadata": {
        "colab": {
          "base_uri": "https://localhost:8080/"
        },
        "id": "fanCUjntYp6x",
        "outputId": "a1483f63-34c0-4dec-be0d-492074c39117"
      },
      "execution_count": null,
      "outputs": [
        {
          "output_type": "stream",
          "name": "stdout",
          "text": [
            "P\n",
            "y\n",
            "h\n",
            "o\n",
            "n\n"
          ]
        }
      ]
    }
  ]
}