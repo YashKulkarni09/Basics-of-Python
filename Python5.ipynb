{
  "nbformat": 4,
  "nbformat_minor": 0,
  "metadata": {
    "colab": {
      "name": "Python5",
      "provenance": [],
      "collapsed_sections": []
    },
    "kernelspec": {
      "name": "python3",
      "display_name": "Python 3"
    },
    "language_info": {
      "name": "python"
    }
  },
  "cells": [
    {
      "cell_type": "code",
      "execution_count": null,
      "metadata": {
        "id": "rRjxpvxpgEtU"
      },
      "outputs": [],
      "source": [
        "Name=\"Yash Kulkarni\"\n",
        "Roll_No=9134"
      ]
    },
    {
      "cell_type": "code",
      "source": [
        "A=[\"A\",\"B\",\"C\",\"D\"]\n",
        "B=(\"A\",\"B\",\"C\",\"D\")"
      ],
      "metadata": {
        "id": "WNmiXQaogMQn"
      },
      "execution_count": 1,
      "outputs": []
    },
    {
      "cell_type": "markdown",
      "source": [
        "Adding \"Z\" to the list"
      ],
      "metadata": {
        "id": "8BU-dBp6jiDa"
      }
    },
    {
      "cell_type": "code",
      "source": [
        "print(A)\n",
        "A.append(\"Z\")\n",
        "print(A)\n",
        "\n",
        "### Tupples cannit be modified"
      ],
      "metadata": {
        "colab": {
          "base_uri": "https://localhost:8080/"
        },
        "id": "so8AJTMFltCz",
        "outputId": "3b7d98f6-6cbe-4b9a-b5d5-b33ee693f765"
      },
      "execution_count": 2,
      "outputs": [
        {
          "output_type": "stream",
          "name": "stdout",
          "text": [
            "['A', 'B', 'C', 'D']\n",
            "['A', 'B', 'C', 'D', 'Z']\n"
          ]
        }
      ]
    },
    {
      "cell_type": "markdown",
      "source": [
        "Replacing \"B\" with \"H\" in the list"
      ],
      "metadata": {
        "id": "WyP9arXWjq8B"
      }
    },
    {
      "cell_type": "code",
      "source": [
        "print(A)\n",
        "A[1]=\"H\"\n",
        "print(A)"
      ],
      "metadata": {
        "colab": {
          "base_uri": "https://localhost:8080/"
        },
        "id": "nbXFbaPFhjBF",
        "outputId": "1c642ae5-3b38-4524-8324-71e21bc17c32"
      },
      "execution_count": 4,
      "outputs": [
        {
          "output_type": "stream",
          "name": "stdout",
          "text": [
            "['A', 'B', 'C', 'D', 'Z']\n",
            "['A', 'H', 'C', 'D', 'Z']\n"
          ]
        }
      ]
    },
    {
      "cell_type": "markdown",
      "source": [
        "Creating copy of the list"
      ],
      "metadata": {
        "id": "UE3mDp1Qjzbz"
      }
    },
    {
      "cell_type": "code",
      "source": [
        "print(A)\n",
        "A1=A.copy()\n",
        "print(A1)\n",
        "\n",
        "### Tupples cannot be copied"
      ],
      "metadata": {
        "colab": {
          "base_uri": "https://localhost:8080/"
        },
        "id": "ndCM9M4woAqM",
        "outputId": "edfafc80-a977-449e-c24a-059939af547f"
      },
      "execution_count": 5,
      "outputs": [
        {
          "output_type": "stream",
          "name": "stdout",
          "text": [
            "['A', 'H', 'C', 'D', 'Z']\n",
            "['A', 'H', 'C', 'D', 'Z']\n"
          ]
        }
      ]
    },
    {
      "cell_type": "markdown",
      "source": [
        "Clearing the copy of the list "
      ],
      "metadata": {
        "id": "Tnmnej-uj3ot"
      }
    },
    {
      "cell_type": "code",
      "source": [
        "A1.clear()\n",
        "print(A1)"
      ],
      "metadata": {
        "colab": {
          "base_uri": "https://localhost:8080/"
        },
        "id": "ikEDy-h8onkA",
        "outputId": "b7bae67f-61d4-41ab-d4b7-32371f009e6b"
      },
      "execution_count": 6,
      "outputs": [
        {
          "output_type": "stream",
          "name": "stdout",
          "text": [
            "[]\n"
          ]
        }
      ]
    },
    {
      "cell_type": "markdown",
      "source": [
        "Adding \"M\" in 2nd position in the list"
      ],
      "metadata": {
        "id": "DKL7G4b6j84e"
      }
    },
    {
      "cell_type": "code",
      "source": [
        "print(A)\n",
        "A.insert(1,\"M\")\n",
        "print(A)"
      ],
      "metadata": {
        "colab": {
          "base_uri": "https://localhost:8080/"
        },
        "id": "cMrNPbcPo54k",
        "outputId": "7564cc3d-2a11-4070-a27e-c8df721817d7"
      },
      "execution_count": 8,
      "outputs": [
        {
          "output_type": "stream",
          "name": "stdout",
          "text": [
            "['A', 'H', 'C', 'D', 'Z']\n",
            "['A', 'M', 'H', 'C', 'D', 'Z']\n"
          ]
        }
      ]
    }
  ]
}