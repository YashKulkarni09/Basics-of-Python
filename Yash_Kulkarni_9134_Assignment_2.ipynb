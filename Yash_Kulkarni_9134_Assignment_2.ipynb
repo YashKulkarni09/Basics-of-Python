{
  "nbformat": 4,
  "nbformat_minor": 0,
  "metadata": {
    "colab": {
      "name": "Yash_Kulkarni_9134_Assignment_2",
      "provenance": [],
      "collapsed_sections": []
    },
    "kernelspec": {
      "name": "python3",
      "display_name": "Python 3"
    },
    "language_info": {
      "name": "python"
    }
  },
  "cells": [
    {
      "cell_type": "code",
      "source": [
        "Name=\"Yash Kulkarni\"\n",
        "Roll_No=9134"
      ],
      "metadata": {
        "id": "mpUDfhbNHFr6"
      },
      "execution_count": null,
      "outputs": []
    },
    {
      "cell_type": "markdown",
      "source": [
        "Q1. Write a Python User Define Function to reverse a string.\n",
        "\n"
      ],
      "metadata": {
        "id": "i1q4t6kZHGyb"
      }
    },
    {
      "cell_type": "code",
      "source": [
        "def reverse1(s):\n",
        "  str1= ''\n",
        "  for i in s:\n",
        "    str1=i + str1 \n",
        "  return str1\n",
        "reverse1(\"Python\")   "
      ],
      "metadata": {
        "id": "oX7Ju_zxJmUT",
        "colab": {
          "base_uri": "https://localhost:8080/",
          "height": 36
        },
        "outputId": "6d1667e4-3709-491c-fe29-fa3ffad36348"
      },
      "execution_count": null,
      "outputs": [
        {
          "output_type": "execute_result",
          "data": {
            "text/plain": [
              "'nohtyP'"
            ],
            "application/vnd.google.colaboratory.intrinsic+json": {
              "type": "string"
            }
          },
          "metadata": {},
          "execution_count": 5
        }
      ]
    },
    {
      "cell_type": "markdown",
      "source": [
        "Q2. Write a Python min_max function which will return Min, Max of 4 inputs from the user."
      ],
      "metadata": {
        "id": "Aqm0dpkeJnC2"
      }
    },
    {
      "cell_type": "code",
      "source": [
        "def min_max(A,B,C,D):\n",
        "  print(\"The Maxmimum value from the input values is: \", max(A,B,C,D))\n",
        "  print(\"The Minimum value from the input values is: \", min(A,B,C,D))\n",
        "  \n",
        "a, b, c, d = input(\"Enter four values to find minimum and maximum value separated by space: \").split()\n",
        "\n",
        "min_max(a,b,c,d)"
      ],
      "metadata": {
        "id": "KqGIe3FdJq90",
        "colab": {
          "base_uri": "https://localhost:8080/"
        },
        "outputId": "cd576b01-9c4f-4987-d38a-0c919178633e"
      },
      "execution_count": null,
      "outputs": [
        {
          "output_type": "stream",
          "name": "stdout",
          "text": [
            "Enter four values to find minimum and maximum value separated by space: 9 0 5 1\n",
            "The Maxmimum value from the input values is:  9\n",
            "The Minimum value from the input values is:  0\n"
          ]
        }
      ]
    },
    {
      "cell_type": "markdown",
      "source": [
        "Q3. Write a Python function to sum 4 inputs from the user."
      ],
      "metadata": {
        "id": "Bepe9CizJrS5"
      }
    },
    {
      "cell_type": "code",
      "source": [
        "def Sum(A,B,C,D):\n",
        "  sum = A+B+C+D\n",
        "  print(\"The Sum of the input vlaues is: \", sum)\n",
        "\n",
        "a, b, c, d =list(map(float, input(\"Enter four values to find sum of them separated by space: \").split()))\n",
        "\n",
        "Sum (a,b,c,d)"
      ],
      "metadata": {
        "id": "6yfcGIW0JvF_",
        "colab": {
          "base_uri": "https://localhost:8080/"
        },
        "outputId": "28f1498a-6c31-462f-f197-8d55c61d4ec1"
      },
      "execution_count": null,
      "outputs": [
        {
          "output_type": "stream",
          "name": "stdout",
          "text": [
            "Enter four values to find sum of them separated by space: 1 2 3 4\n",
            "The Sum of the input vlaues is:  10.0\n"
          ]
        }
      ]
    },
    {
      "cell_type": "markdown",
      "source": [
        "Q4. Find out the Command which will return you number of local variables from the user define function."
      ],
      "metadata": {
        "id": "HqmpVNbhJva4"
      }
    },
    {
      "cell_type": "code",
      "source": [
        "print(function_name.__code__.co_nlocals)"
      ],
      "metadata": {
        "id": "wJ9dSa1YJyvn",
        "colab": {
          "base_uri": "https://localhost:8080/",
          "height": 165
        },
        "outputId": "b51b4509-12a4-4e5b-df16-d05536de509f"
      },
      "execution_count": null,
      "outputs": [
        {
          "output_type": "error",
          "ename": "NameError",
          "evalue": "ignored",
          "traceback": [
            "\u001b[0;31m---------------------------------------------------------------------------\u001b[0m",
            "\u001b[0;31mNameError\u001b[0m                                 Traceback (most recent call last)",
            "\u001b[0;32m<ipython-input-1-2503fa697acf>\u001b[0m in \u001b[0;36m<module>\u001b[0;34m()\u001b[0m\n\u001b[0;32m----> 1\u001b[0;31m \u001b[0mprint\u001b[0m\u001b[0;34m(\u001b[0m\u001b[0mfunction_name\u001b[0m\u001b[0;34m.\u001b[0m\u001b[0m__code__\u001b[0m\u001b[0;34m.\u001b[0m\u001b[0mco_nlocals\u001b[0m\u001b[0;34m)\u001b[0m\u001b[0;34m\u001b[0m\u001b[0;34m\u001b[0m\u001b[0m\n\u001b[0m",
            "\u001b[0;31mNameError\u001b[0m: name 'function_name' is not defined"
          ]
        }
      ]
    },
    {
      "cell_type": "markdown",
      "source": [
        "Q5. Write Python Function to get even number from the list. List len must be equal to 8."
      ],
      "metadata": {
        "id": "HT6JUxu5JzJk"
      }
    },
    {
      "cell_type": "code",
      "source": [
        "list1 = list(map(float, input(\"Enter a list of 8 elements separated by space: \").split()))\n",
        "even_no = [num for num in list1 if num % 2 == 0]\n",
        "print(\"Even no : \", even_no)"
      ],
      "metadata": {
        "colab": {
          "base_uri": "https://localhost:8080/"
        },
        "id": "JvtM4nBhfuBD",
        "outputId": "2506c9a7-6b4f-4fd0-95ef-420cf7d63aba"
      },
      "execution_count": null,
      "outputs": [
        {
          "output_type": "stream",
          "name": "stdout",
          "text": [
            "Enter a list of 8 elements separated by space: 1 2 3 4 5 6 7 8\n",
            "Even no :  [2.0, 4.0, 6.0, 8.0]\n"
          ]
        }
      ]
    }
  ]
}