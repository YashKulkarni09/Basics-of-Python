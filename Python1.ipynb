{
  "nbformat": 4,
  "nbformat_minor": 0,
  "metadata": {
    "colab": {
      "name": "Python1",
      "provenance": []
    },
    "kernelspec": {
      "name": "python3",
      "display_name": "Python 3"
    },
    "language_info": {
      "name": "python"
    }
  },
  "cells": [
    {
      "cell_type": "code",
      "execution_count": 1,
      "metadata": {
        "colab": {
          "base_uri": "https://localhost:8080/"
        },
        "id": "YH2JQKinAX9y",
        "outputId": "64c66634-1b82-4d02-97df-5f6116bee903"
      },
      "outputs": [
        {
          "output_type": "stream",
          "name": "stdout",
          "text": [
            "3\n",
            "3\n"
          ]
        }
      ],
      "source": [
        "a=\"Yash\"\n",
        "b=3\n",
        "c=\"3\"\n",
        "# 3 is number\n",
        "# 3 is string\n",
        "print(b)\n",
        "print(c)"
      ]
    },
    {
      "cell_type": "code",
      "source": [
        "pi=22/7\n",
        "print(pi)"
      ],
      "metadata": {
        "colab": {
          "base_uri": "https://localhost:8080/"
        },
        "id": "5_PofVFmA9yT",
        "outputId": "5d8ee9bf-948d-42e6-a7a9-5d0f33fad0dc"
      },
      "execution_count": 2,
      "outputs": [
        {
          "output_type": "stream",
          "name": "stdout",
          "text": [
            "3.142857142857143\n"
          ]
        }
      ]
    },
    {
      "cell_type": "code",
      "source": [
        "x,y=9,5\n",
        "print(\"Addition=\",x+y)              \n",
        "print(\"Subtraction=\",x-y)\n",
        "print(\"Multiplication=\",x*y)\n",
        "print(\"Dividion=\",x/y)\n",
        "print(\"Power=\",x**y)\n",
        "print(\"Modulus=\",x%y)\n",
        "print(\"Floor Division=\",x//y)"
      ],
      "metadata": {
        "colab": {
          "base_uri": "https://localhost:8080/"
        },
        "id": "ky0JevWZBGxM",
        "outputId": "f37a91e8-e17e-4237-82cc-2ffa67f087ca"
      },
      "execution_count": 3,
      "outputs": [
        {
          "output_type": "stream",
          "name": "stdout",
          "text": [
            "Addition 14\n",
            "Subtraction 4\n",
            "Multiplication 45\n",
            "Dividion 1.8\n",
            "Power 59049\n",
            "Modulus 4\n",
            "Floor Division 1\n"
          ]
        }
      ]
    },
    {
      "cell_type": "code",
      "source": [
        "x,y=3.143217,7.98214\n",
        "print(\"Addition=\",x+y)            # Addition          \n",
        "print(\"Subtraction=\",x-y)         # Subtraction\n",
        "print(\"Multiplication=\",x*y)      # Multiplication\n",
        "print(\"Dividion=\",x/y)            # Dividion\n",
        "print(\"Power=\",x**y)              # Power\n",
        "print(\"Modulus=\",x%y)             # Modulus/Remainder\n",
        "print(\"Floor Division=\",x//y)     # Floor Division"
      ],
      "metadata": {
        "colab": {
          "base_uri": "https://localhost:8080/"
        },
        "id": "PJdmMlWlCNzn",
        "outputId": "fd502325-efc0-4b12-9d14-5f8ce0a0df43"
      },
      "execution_count": 6,
      "outputs": [
        {
          "output_type": "stream",
          "name": "stdout",
          "text": [
            "Addition= 11.125357000000001\n",
            "Subtraction= -4.838923\n",
            "Multiplication= 25.089598144380002\n",
            "Dividion= 0.3937812416219209\n",
            "Power= 9334.946027084901\n",
            "Modulus= 3.143217\n",
            "Floor Division= 0.0\n"
          ]
        }
      ]
    },
    {
      "cell_type": "code",
      "source": [
        "x,y=3.143217,7.98214\n",
        "print(x%y)\n",
        "print(y%x)"
      ],
      "metadata": {
        "colab": {
          "base_uri": "https://localhost:8080/"
        },
        "id": "cpkVk_6aDPGe",
        "outputId": "037b0d6d-e553-4bf0-dad3-3618b040231f"
      },
      "execution_count": 5,
      "outputs": [
        {
          "output_type": "stream",
          "name": "stdout",
          "text": [
            "3.143217\n",
            "1.6957060000000004\n"
          ]
        }
      ]
    },
    {
      "cell_type": "code",
      "source": [
        "x**2\n",
        "print(\"Sq Root=\",x**0.5)"
      ],
      "metadata": {
        "colab": {
          "base_uri": "https://localhost:8080/"
        },
        "id": "FD9W5zJlFJKJ",
        "outputId": "d1fbebb9-4648-4f69-9ed7-51f841220529"
      },
      "execution_count": 11,
      "outputs": [
        {
          "output_type": "stream",
          "name": "stdout",
          "text": [
            "Sq Root= 1.7729120113530734\n"
          ]
        }
      ]
    }
  ]
}